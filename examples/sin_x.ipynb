{
 "cells": [
  {
   "cell_type": "markdown",
   "metadata": {},
   "source": [
    "# $sin(x)$"
   ]
  },
  {
   "cell_type": "markdown",
   "metadata": {},
   "source": [
    "This notebook shows how you can use a Bayesian Neural Network to estimate a noisy $sin(x)$ with limited data."
   ]
  },
  {
   "cell_type": "code",
   "execution_count": 1,
   "metadata": {},
   "outputs": [],
   "source": [
    "%matplotlib inline"
   ]
  },
  {
   "cell_type": "code",
   "execution_count": 2,
   "metadata": {
    "scrolled": true
   },
   "outputs": [],
   "source": [
    "import tqdm\n",
    "import torch\n",
    "import matplotlib\n",
    "import numpy as np\n",
    "import matplotlib.pyplot as plt\n",
    "\n",
    "from bnn import bayesian_model, CDropout"
   ]
  },
  {
   "cell_type": "code",
   "execution_count": 3,
   "metadata": {},
   "outputs": [],
   "source": [
    "def plot_particles(model, x, y, n_particles=100, use_predicted_std=True):\n",
    "    x_ = x.repeat(n_particles, 1, 1)\n",
    "    out = model(x_)\n",
    "    out, log_std = out.split([y.shape[1], y.shape[1]], dim=-1)\n",
    "    if use_predicted_std:\n",
    "        out = out + log_std.exp() * torch.randn_like(out)\n",
    "    out = out.detach().numpy()\n",
    "    \n",
    "    x = x.numpy()\n",
    "    y = y.detach().numpy()\n",
    "    \n",
    "    plt.figure(figsize=(12, 6))\n",
    "    samples_plt, = plt.plot(\n",
    "        X.numpy(), Y.numpy(),\n",
    "        \"rs\", ms=4, label=\"Sampled points\")\n",
    "\n",
    "    y_plt, = plt.plot(x, y, \"r--\", label=\"Ground truth\")\n",
    "\n",
    "    for i in range(n_particles):\n",
    "        particle_plt, = plt.plot(x, out[i], \"b-\",\n",
    "                                 alpha=1.0 / 15, label=\"Particle estimate\")\n",
    "\n",
    "    plt.axis([-4, 4, -2, 2])\n",
    "    plt.legend(handles=[samples_plt, y_plt, particle_plt])\n",
    "    plt.show()\n",
    "    \n",
    "\n",
    "def plot_variance(model, x, y, n_particles=100, use_predicted_std=True):\n",
    "    x_ = x.repeat(n_particles, 1, 1)\n",
    "    out = model(x_)\n",
    "    out, log_std = out.split([y.shape[1], y.shape[1]], dim=-1)\n",
    "    if use_predicted_std:\n",
    "        out = out + log_std.exp() * torch.randn_like(out)\n",
    "    \n",
    "    mu = out.mean(dim=0).detach().numpy()\n",
    "    std = out.std(dim=0).detach().numpy()\n",
    "    \n",
    "    x = x.numpy()\n",
    "    y = y.detach().numpy()\n",
    "    \n",
    "    plt.figure(figsize=(12, 6))\n",
    "    samples_plt, = plt.plot(\n",
    "        X.numpy(), Y.numpy(),\n",
    "        \"rs\", ms=4, label=\"Sampled points\")\n",
    "\n",
    "    y_plt, = plt.plot(x, y, \"r--\", label=\"Ground truth\")\n",
    "    mu_plt, = plt.plot(x, mu, \"k-\", label=\"Mean estimate\")\n",
    "    \n",
    "    for i in range(1, 4):\n",
    "        std_plt = plt.gca().fill_between(\n",
    "            x.flat, (mu - i * std).flat, (mu + i * std).flat,\n",
    "            color=\"#dddddd\", alpha=1.0/i, label=\"Confidence\")\n",
    "\n",
    "    plt.axis([-4, 4, -2, 2])\n",
    "    plt.legend(handles=[samples_plt, y_plt, mu_plt, std_plt])\n",
    "    plt.show()"
   ]
  },
  {
   "cell_type": "markdown",
   "metadata": {},
   "source": [
    "## Dataset"
   ]
  },
  {
   "cell_type": "code",
   "execution_count": 4,
   "metadata": {},
   "outputs": [],
   "source": [
    "def secret_function(x, noise=0.0):\n",
    "    return x.sin() + noise * torch.randn_like(x)"
   ]
  },
  {
   "cell_type": "code",
   "execution_count": 5,
   "metadata": {},
   "outputs": [
    {
     "name": "stdout",
     "output_type": "stream",
     "text": [
      "torch.Size([20, 1])\n"
     ]
    }
   ],
   "source": [
    "# Training data with noise\n",
    "X = 8 * torch.rand(20, 1) - 4\n",
    "Y = secret_function(X, noise=1e-1)\n",
    "print(X.shape)\n",
    "\n",
    "# Test data without noise\n",
    "x = torch.linspace(-4, 4,20).reshape(-1, 1)\n",
    "y = secret_function(x)"
   ]
  },
  {
   "cell_type": "markdown",
   "metadata": {},
   "source": [
    "## Initialize model"
   ]
  },
  {
   "cell_type": "code",
   "execution_count": 6,
   "metadata": {},
   "outputs": [],
   "source": [
    "model = bayesian_model(X.shape[1], 2 * Y.shape[1], [200, 200])"
   ]
  },
  {
   "cell_type": "code",
   "execution_count": 7,
   "metadata": {},
   "outputs": [
    {
     "data": {
      "text/plain": [
       "BSequential(\n",
       "  (fc_0): Linear(in_features=1, out_features=200, bias=True)\n",
       "  (drop_0): CDropout(\n",
       "    temperature=Parameter containing:\n",
       "    tensor(0.1000)\n",
       "  )\n",
       "  (nonlin_0): ReLU()\n",
       "  (fc_1): Linear(in_features=200, out_features=200, bias=True)\n",
       "  (drop_1): CDropout(\n",
       "    temperature=Parameter containing:\n",
       "    tensor(0.1000)\n",
       "  )\n",
       "  (nonlin_1): ReLU()\n",
       "  (fc_out): Linear(in_features=200, out_features=2, bias=True)\n",
       ")"
      ]
     },
     "execution_count": 7,
     "metadata": {},
     "output_type": "execute_result"
    }
   ],
   "source": [
    "model"
   ]
  },
  {
   "cell_type": "markdown",
   "metadata": {},
   "source": [
    "## Before optimization"
   ]
  },
  {
   "cell_type": "code",
   "execution_count": null,
   "metadata": {},
   "outputs": [],
   "source": [
    "plot_particles(model, x, y)\n",
    "plot_variance(model, x, y)"
   ]
  },
  {
   "cell_type": "markdown",
   "metadata": {},
   "source": [
    "## Optimize"
   ]
  },
  {
   "cell_type": "code",
   "execution_count": 8,
   "metadata": {},
   "outputs": [],
   "source": [
    "def gaussian_log_likelihood(targets, pred_means, pred_stds=None):\n",
    "    deltas = pred_means - targets\n",
    "    if pred_stds is not None:\n",
    "        lml = -((deltas / pred_stds)**2).sum(-1) * 0.5 \\\n",
    "              - pred_stds.log().sum(-1) \\\n",
    "              - np.log(2 * np.pi) * 0.5\n",
    "    else:\n",
    "        lml = -(deltas**2).sum(-1) * 0.5\n",
    "\n",
    "    return lml"
   ]
  },
  {
   "cell_type": "code",
   "execution_count": 9,
   "metadata": {},
   "outputs": [],
   "source": [
    "opt = torch.optim.Adam(p for p in model.parameters() if p.requires_grad)"
   ]
  },
  {
   "cell_type": "code",
   "execution_count": 1,
   "metadata": {},
   "outputs": [
    {
     "ename": "NameError",
     "evalue": "name 'tqdm' is not defined",
     "output_type": "error",
     "traceback": [
      "\u001b[1;31m---------------------------------------------------------------------------\u001b[0m",
      "\u001b[1;31mNameError\u001b[0m                                 Traceback (most recent call last)",
      "Cell \u001b[1;32mIn[1], line 1\u001b[0m\n\u001b[1;32m----> 1\u001b[0m pbar \u001b[38;5;241m=\u001b[39m tqdm\u001b[38;5;241m.\u001b[39mnotebook\u001b[38;5;241m.\u001b[39mtrange(\u001b[38;5;241m2500\u001b[39m)\n\u001b[0;32m      2\u001b[0m \u001b[38;5;28;01mfor\u001b[39;00m i \u001b[38;5;129;01min\u001b[39;00m pbar:\n\u001b[0;32m      3\u001b[0m     opt\u001b[38;5;241m.\u001b[39mzero_grad()\n",
      "\u001b[1;31mNameError\u001b[0m: name 'tqdm' is not defined"
     ]
    }
   ],
   "source": [
    "pbar = tqdm.notebook.trange(2500)\n",
    "for i in pbar:\n",
    "    opt.zero_grad()\n",
    "    output = model(X, resample=True)\n",
    "    mean, log_std = output.split([Y.shape[1], Y.shape[1]], dim=-1)\n",
    "    loss = (-gaussian_log_likelihood(Y, mean, log_std.exp())\n",
    "            + 1e-2 * model.regularization()).mean()\n",
    "    pbar.set_postfix({\"loss\": loss.detach().numpy()})\n",
    "    loss.backward()\n",
    "    opt.step()"
   ]
  },
  {
   "cell_type": "markdown",
   "metadata": {},
   "source": [
    "## After optimization"
   ]
  },
  {
   "cell_type": "code",
   "execution_count": null,
   "metadata": {},
   "outputs": [],
   "source": [
    "plot_particles(model, x, y)\n",
    "plot_variance(model, x, y)"
   ]
  },
  {
   "cell_type": "code",
   "execution_count": null,
   "metadata": {},
   "outputs": [],
   "source": []
  }
 ],
 "metadata": {
  "kernelspec": {
   "display_name": "Python 3 (ipykernel)",
   "language": "python",
   "name": "python3"
  },
  "language_info": {
   "codemirror_mode": {
    "name": "ipython",
    "version": 3
   },
   "file_extension": ".py",
   "mimetype": "text/x-python",
   "name": "python",
   "nbconvert_exporter": "python",
   "pygments_lexer": "ipython3",
   "version": "3.11.4"
  }
 },
 "nbformat": 4,
 "nbformat_minor": 2
}
